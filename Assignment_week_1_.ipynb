{
 "cells": [
  {
   "cell_type": "code",
   "execution_count": 17,
   "id": "c7c0576e-996d-4604-95af-fe42ddd4ace8",
   "metadata": {},
   "outputs": [
    {
     "name": "stdout",
     "output_type": "stream",
     "text": [
      "pwskills\n",
      "3.14\n"
     ]
    }
   ],
   "source": [
    "##Q1.Create one variable containing following type of data:\n",
    "##(i) string (ii) list (iii) float (iv) tuple\n",
    "\n",
    "#Ans (i)\n",
    "a = \"pwskills\"\n",
    "print(a)\n",
    "\n",
    "#Ans (ii)\n",
    "l = [1,2,3,4,5, \"apple\", \"samsung\", \"pubg\", \"valorant\"]\n",
    "\n",
    "#Ans (iii)\n",
    "pi = 3.14\n",
    "print(pi)\n",
    "\n",
    "#Ans (iv)\n",
    "t = (9,8,7,6,5, \"cat\", \"data science\", \"pwskills\")\n",
    "\n"
   ]
  },
  {
   "cell_type": "code",
   "execution_count": 49,
   "id": "65a9c0ca-7122-40c8-a15a-41e48ae480e0",
   "metadata": {},
   "outputs": [
    {
     "data": {
      "text/plain": [
       "\"Q2 Given are some following variables containing data:\\n (i)var = '' \\n (ii)var2 = '[DS, ML, Python]' \\n (iii)var3 = ['DS', 'ML', 'PYTHON'] \\n (iv)var4 =1. \""
      ]
     },
     "execution_count": 49,
     "metadata": {},
     "output_type": "execute_result"
    }
   ],
   "source": [
    "\"\"\"Q2 Given are some following variables containing data:\n",
    " (i)var = '' \n",
    " (ii)var2 = '[DS, ML, Python]' \n",
    " (iii)var3 = ['DS', 'ML', 'PYTHON'] \n",
    " (iv)var4 =1. \"\"\"\n",
    "#Ans i = string\n",
    "#Ans ii = string\n",
    "#Ans iii = list\n",
    "#Ans iv = float"
   ]
  },
  {
   "cell_type": "code",
   "execution_count": 22,
   "id": "e538a12a-026f-440b-b29e-2f89c0e15253",
   "metadata": {},
   "outputs": [
    {
     "name": "stdout",
     "output_type": "stream",
     "text": [
      "5.0\n",
      "1\n",
      "4\n",
      "9\n"
     ]
    }
   ],
   "source": [
    "\"\"\"Q3. Explain the use of the following operators using an example:\n",
    "(i) /\n",
    "(ii) %\n",
    "(iii) //\n",
    "(iv) ** \n",
    "\"\"\"\n",
    "#Ans (i) Division operator is used to do division between two numbers\n",
    "d = 10/2\n",
    "print(d)\n",
    "\n",
    "#Ans (ii) Modulo operator is used to find remainder of the division\n",
    "r = 13%4\n",
    "print(r)\n",
    "\n",
    "#Ans (iii) Floor division is used to find quotient of the division\n",
    "q = 12//3\n",
    "print(q)\n",
    "\n",
    "#Ans (iv) Exponentiation is used to give to number a certain number of power\n",
    "p = 3**2\n",
    "print(p)\n",
    "\n"
   ]
  },
  {
   "cell_type": "code",
   "execution_count": 26,
   "id": "68a3b15c-f4f3-479c-83b4-2ae783948e5a",
   "metadata": {},
   "outputs": [
    {
     "name": "stdout",
     "output_type": "stream",
     "text": [
      "Element: 12\n",
      "Data Type: <class 'int'>\n",
      "\n",
      "Element: 15.23\n",
      "Data Type: <class 'float'>\n",
      "\n",
      "Element: (5+8j)\n",
      "Data Type: <class 'complex'>\n",
      "\n",
      "Element: True\n",
      "Data Type: <class 'bool'>\n",
      "\n",
      "Element: Hello\n",
      "Data Type: <class 'str'>\n",
      "\n",
      "Element: False\n",
      "Data Type: <class 'bool'>\n",
      "\n",
      "Element: Pwskills\n",
      "Data Type: <class 'str'>\n",
      "\n",
      "Element: Assignment\n",
      "Data Type: <class 'str'>\n",
      "\n",
      "Element: [1, 2, 3, 4, 5, 'okay']\n",
      "Data Type: <class 'list'>\n",
      "\n",
      "Element: True\n",
      "Data Type: <class 'bool'>\n",
      "\n"
     ]
    }
   ],
   "source": [
    "\"\"\"Q4. Create a list of length 10 of your choice containing multiple types of data. Using for loop print the\n",
    "element and its data type.\"\"\"\n",
    "\n",
    "#Ans (4) List with 10 elements with different data types\n",
    "x = [12, 15.23, 5+8j, True, \"Hello\", False, \"Pwskills\", \"Assignment\", [1,2,3,4,5,\"okay\"], True]\n",
    "\n",
    "# list for loop\n",
    "for element in x:\n",
    "    print(\"Element:\", element)\n",
    "    print(\"Data Type:\", type(element))\n",
    "    print()"
   ]
  },
  {
   "cell_type": "code",
   "execution_count": 32,
   "id": "54812260-8284-4adb-a694-fd68c68866e7",
   "metadata": {},
   "outputs": [],
   "source": [
    "\"\"\"Q5. Using a while loop, verify if the number A is purely divisible by number B and if so then how many\n",
    "times it can be divisible.\"\"\"\n",
    "\n",
    "# Input values\n",
    "A = 25\n",
    "B = 5\n",
    "\n",
    "# While loop \n",
    "while A % B == 0:\n",
    "    A = A // B"
   ]
  },
  {
   "cell_type": "code",
   "execution_count": 41,
   "id": "3f373378-2b93-45eb-b5bc-e5a5262a5472",
   "metadata": {},
   "outputs": [
    {
     "name": "stdout",
     "output_type": "stream",
     "text": [
      "12 is divisible by 3.\n",
      "54 is divisible by 3.\n",
      "23 is not divisible by 3.\n",
      "75 is divisible by 3.\n",
      "2 is not divisible by 3.\n",
      "23 is not divisible by 3.\n",
      "75 is divisible by 3.\n",
      "76 is not divisible by 3.\n",
      "86 is not divisible by 3.\n",
      "45 is divisible by 3.\n",
      "12 is divisible by 3.\n",
      "65 is not divisible by 3.\n",
      "80 is not divisible by 3.\n",
      "67 is not divisible by 3.\n",
      "56 is not divisible by 3.\n",
      "45 is divisible by 3.\n",
      "23 is not divisible by 3.\n",
      "12 is divisible by 3.\n",
      "65 is not divisible by 3.\n",
      "72 is divisible by 3.\n",
      "71 is not divisible by 3.\n",
      "27 is divisible by 3.\n",
      "63 is divisible by 3.\n",
      "43 is not divisible by 3.\n",
      "34 is not divisible by 3.\n"
     ]
    }
   ],
   "source": [
    "\"\"\"Q6. Create a list containing 25 int type data. Using for loop and if-else condition print if the element is\n",
    "divisible by 3 or not.\"\"\"\n",
    "\n",
    "# list of 25 integers\n",
    "listx = [12,54,23,75,2,23,75,76,86,45,12,65,80,67,56,45,23,12,65,72,71,27,63,43,34]\n",
    "\n",
    "# Iterating over the list using a for loop\n",
    "for element in listx:\n",
    "    if element % 3 == 0:\n",
    "        print(f\"{element} is divisible by 3.\")\n",
    "    else:\n",
    "        print(f\"{element} is not divisible by 3.\")\n"
   ]
  },
  {
   "cell_type": "code",
   "execution_count": 48,
   "id": "f32aae89-b153-45a2-8e75-6207580b9793",
   "metadata": {},
   "outputs": [
    {
     "name": "stdout",
     "output_type": "stream",
     "text": [
      "Hello\n",
      "Hello World\n"
     ]
    },
    {
     "data": {
      "text/plain": [
       "['list', 'hello', 'laptop', 'Mobile']"
      ]
     },
     "execution_count": 48,
     "metadata": {},
     "output_type": "execute_result"
    }
   ],
   "source": [
    "\"\"\"Q7. What do you understand about mutable and immutable data types? Give examples for both showing\n",
    "this property.\"\"\"\n",
    "\n",
    "# Mutable data type are these values which can be modified or edited after they are created.\n",
    "# Example = String, Float and Integer\n",
    "\n",
    "x = \"Hello\"\n",
    "y = x + \" World\"\n",
    "print(x) \n",
    "print(y)  \n",
    "\n",
    "# Hence, in the above statement after adding x to \"world\", hello remains the same in the output. \n",
    "\n",
    "# Immutable data types are these values which can't be modified after they are created.\n",
    "# Example = List, Set and Dictionary\n",
    "\n",
    "l = [\"list\", \"hello\", \"laptop\"]\n",
    "l.append(\"Mobile\")\n",
    "l"
   ]
  },
  {
   "cell_type": "code",
   "execution_count": null,
   "id": "014a4f75-2559-46e8-ac55-caed90a3db95",
   "metadata": {},
   "outputs": [],
   "source": []
  }
 ],
 "metadata": {
  "kernelspec": {
   "display_name": "Python 3 (ipykernel)",
   "language": "python",
   "name": "python3"
  },
  "language_info": {
   "codemirror_mode": {
    "name": "ipython",
    "version": 3
   },
   "file_extension": ".py",
   "mimetype": "text/x-python",
   "name": "python",
   "nbconvert_exporter": "python",
   "pygments_lexer": "ipython3",
   "version": "3.10.8"
  }
 },
 "nbformat": 4,
 "nbformat_minor": 5
}
